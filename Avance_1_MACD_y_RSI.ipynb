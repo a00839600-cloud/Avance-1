{
  "nbformat": 4,
  "nbformat_minor": 0,
  "metadata": {
    "colab": {
      "provenance": [],
      "authorship_tag": "ABX9TyOPDeOnjtPfdXnui65JNrLY",
      "include_colab_link": true
    },
    "kernelspec": {
      "name": "python3",
      "display_name": "Python 3"
    },
    "language_info": {
      "name": "python"
    }
  },
  "cells": [
    {
      "cell_type": "markdown",
      "metadata": {
        "id": "view-in-github",
        "colab_type": "text"
      },
      "source": [
        "<a href=\"https://colab.research.google.com/github/a00839600-cloud/Avance-1/blob/main/Avance_1_MACD_y_RSI.ipynb\" target=\"_parent\"><img src=\"https://colab.research.google.com/assets/colab-badge.svg\" alt=\"Open In Colab\"/></a>"
      ]
    },
    {
      "cell_type": "code",
      "execution_count": null,
      "metadata": {
        "id": "T1PHqv6AdWCe"
      },
      "outputs": [],
      "source": [
        "#Instalo dependencias necesarias\n",
        "!pip install pyfolio\n",
        "!pip install zipline-reloaded\n",
        "!pip install pandas==1.5.3  # Una versión anterior que podría ser más compatible con Zipline"
      ]
    }
  ]
}